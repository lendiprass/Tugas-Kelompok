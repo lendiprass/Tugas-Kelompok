{
 "cells": [
  {
   "cell_type": "code",
   "execution_count": 1,
   "id": "395776cc-96d3-45cf-ba26-519c4c55b458",
   "metadata": {},
   "outputs": [],
   "source": [
    "#importing the required libraries\n",
    "import cv2\n",
    "import face_recognition"
   ]
  },
  {
   "cell_type": "code",
   "execution_count": 2,
   "id": "d5520c60-014a-4a8f-8193-4a84c1390a1b",
   "metadata": {},
   "outputs": [],
   "source": [
    "#capture the video from default camera \n",
    "file_video_stream = cv2.VideoCapture('kel.mp4')"
   ]
  },
  {
   "cell_type": "code",
   "execution_count": 3,
   "id": "6c2bcc26-3008-4f80-ae78-ec4aa471c6e0",
   "metadata": {},
   "outputs": [],
   "source": [
    "#load the sample images and get the 128 face embeddings from them\n",
    "aldi_image = face_recognition.load_image_file('ALDI.jpg')\n",
    "aldi_face_encodings = face_recognition.face_encodings(aldi_image)[0]\n",
    "\n",
    "lendi_image = face_recognition.load_image_file('LENDI.jpg')\n",
    "lendi_face_encodings = face_recognition.face_encodings(lendi_image)[0]\n",
    "\n",
    "ohar_image = face_recognition.load_image_file('JOHAR.jpg')\n",
    "ohar_face_encodings = face_recognition.face_encodings(ohar_image)[0]\n",
    "\n",
    "pipit_image = face_recognition.load_image_file('PIPIT.jpg')\n",
    "pipit_face_encodings = face_recognition.face_encodings(pipit_image)[0]\n",
    "\n",
    "urip_image = face_recognition.load_image_file('URIP.jpg')\n",
    "urip_face_encodings = face_recognition.face_encodings(urip_image)[0]\n",
    "\n",
    "wina_image = face_recognition.load_image_file('WINA.jpg')\n",
    "wina_face_encodings = face_recognition.face_encodings(wina_image)[0]\n",
    "\n",
    "yepan_image = face_recognition.load_image_file('YEPAN.jpg')\n",
    "yepan_face_encodings = face_recognition.face_encodings(yepan_image)[0]\n",
    "\n",
    "zara_image = face_recognition.load_image_file('ZAHRA.jpg')\n",
    "zara_face_encodings = face_recognition.face_encodings(zara_image)[0]"
   ]
  },
  {
   "cell_type": "code",
   "execution_count": 4,
   "id": "6d1458fc-9faa-47ca-998a-a91b367c9e32",
   "metadata": {},
   "outputs": [],
   "source": [
    "#save the encodings and the corresponding labels in seperate arrays in the same order\n",
    "known_face_encodings = [aldi_face_encodings, lendi_face_encodings, ohar_face_encodings, \n",
    "                        pipit_face_encodings,urip_face_encodings, wina_face_encodings, \n",
    "                        yepan_face_encodings,zara_face_encodings]\n",
    "known_face_names = [\"Aldi Nurudin-Universtas Wiralodra-562020120003\", \n",
    "                    \"Johar-Universtas Wiralodra-562020120026\",\n",
    "                    \"Lendi Prastyo-Universtas Wiralodra-562020120036\",\n",
    "                    \"Fitriyani Soleha-Universtas Wiralodra-562020120005\",\n",
    "                    \"Urip-Universtas Wiralodra-562020120018\",\n",
    "                    \"Wina-Universtas Wiralodra-562020120008\",\n",
    "                    \"Yevan Alfiansyah-Universtas Wiralodra-562020120029\",\n",
    "                    \"Zahra Shifa Nurhaliza-Universtas Wiralodra-562020120012\"]\n"
   ]
  },
  {
   "cell_type": "code",
   "execution_count": 5,
   "id": "5453decd-849b-40e6-bfca-63e0b244a413",
   "metadata": {},
   "outputs": [],
   "source": [
    "#initialize the array variable to hold all face locations, encodings and names \n",
    "all_face_locations = []\n",
    "all_face_encodings = []\n",
    "all_face_names = []"
   ]
  },
  {
   "cell_type": "code",
   "execution_count": null,
   "id": "16dae973-2bba-47d2-ae04-4f69988b1d4d",
   "metadata": {},
   "outputs": [],
   "source": [
    "#loop through every frame in the video\n",
    "while (file_video_stream.isOpened):\n",
    "    #get the current frame from the video stream as an image\n",
    "    ret,current_frame = file_video_stream.read()\n",
    "    #resize the current frame to 1/4 size to proces faster\n",
    "    current_frame_small = cv2.resize(current_frame,(0,0),fx=0.25,fy=0.25)\n",
    "    #detect all faces in the image\n",
    "    #arguments are image,no_of_times_to_upsample, model\n",
    "    all_face_locations = face_recognition.face_locations(current_frame_small,number_of_times_to_upsample=1,model='hog')\n",
    "    \n",
    "    #detect face encodings for all the faces detected\n",
    "    all_face_encodings = face_recognition.face_encodings(current_frame_small,all_face_locations)\n",
    "\n",
    "\n",
    "    #looping through the face locations and the face embeddings\n",
    "    for current_face_location,current_face_encoding in zip(all_face_locations,all_face_encodings):\n",
    "        #splitting the tuple to get the four position values of current face\n",
    "        top_pos,right_pos,bottom_pos,left_pos = current_face_location\n",
    "        \n",
    "        #change the position maginitude to fit the actual size video frame\n",
    "        top_pos = top_pos*4\n",
    "        right_pos = right_pos*4\n",
    "        bottom_pos = bottom_pos*4\n",
    "        left_pos = left_pos*4\n",
    "        \n",
    "        #find all the matches and get the list of matches\n",
    "        all_matches = face_recognition.compare_faces(known_face_encodings, current_face_encoding)\n",
    "       \n",
    "        #string to hold the label\n",
    "        name_of_person = 'Unknown face'\n",
    "        \n",
    "        #check if the all_matches have at least one item\n",
    "        #if yes, get the index number of face that is located in the first index of all_matches\n",
    "        #get the name corresponding to the index number and save it in name_of_person\n",
    "        if True in all_matches:\n",
    "            first_match_index = all_matches.index(True)\n",
    "            name_of_person = known_face_names[first_match_index]\n",
    "        \n",
    "        #draw rectangle around the face    \n",
    "        cv2.rectangle(current_frame,(left_pos,top_pos),(right_pos,bottom_pos),(255,0,0),2)\n",
    "        \n",
    "        #display the name as text in the image\n",
    "        font = cv2.FONT_HERSHEY_DUPLEX\n",
    "        cv2.putText(current_frame, name_of_person, (left_pos,bottom_pos), font, 0.5, (255,255,255),1)\n",
    "    \n",
    "    #display the video\n",
    "    cv2.imshow(\"Webcam Video\",current_frame)\n",
    "    \n",
    "    if cv2.waitKey(1) & 0xFF == ord('q'):\n",
    "        break"
   ]
  },
  {
   "cell_type": "code",
   "execution_count": null,
   "id": "2350ff51-db24-4e7c-a73f-ff0e6ccab2b0",
   "metadata": {},
   "outputs": [],
   "source": [
    "#release the stream and cam\n",
    "#close all opencv windows open\n",
    "file_video_stream.release()\n",
    "cv2.destroyAllWindows()   "
   ]
  }
 ],
 "metadata": {
  "kernelspec": {
   "display_name": "Python 3 (ipykernel)",
   "language": "python",
   "name": "python3"
  },
  "language_info": {
   "codemirror_mode": {
    "name": "ipython",
    "version": 3
   },
   "file_extension": ".py",
   "mimetype": "text/x-python",
   "name": "python",
   "nbconvert_exporter": "python",
   "pygments_lexer": "ipython3",
   "version": "3.9.10"
  }
 },
 "nbformat": 4,
 "nbformat_minor": 5
}
